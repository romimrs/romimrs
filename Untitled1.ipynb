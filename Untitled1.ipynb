{
  "nbformat": 4,
  "nbformat_minor": 0,
  "metadata": {
    "colab": {
      "provenance": [],
      "authorship_tag": "ABX9TyOVTaPiZy+WpHnT2Z+aarjV",
      "include_colab_link": true
    },
    "kernelspec": {
      "name": "python3",
      "display_name": "Python 3"
    },
    "language_info": {
      "name": "python"
    }
  },
  "cells": [
    {
      "cell_type": "markdown",
      "metadata": {
        "id": "view-in-github",
        "colab_type": "text"
      },
      "source": [
        "<a href=\"https://colab.research.google.com/github/romimrs/romimrs/blob/main/Untitled1.ipynb\" target=\"_parent\"><img src=\"https://colab.research.google.com/assets/colab-badge.svg\" alt=\"Open In Colab\"/></a>"
      ]
    },
    {
      "cell_type": "code",
      "source": [
        "n1 = int (input ('Primeiro numero:'))\n",
        "n2 = int (input ('Segundo numero:'))\n",
        "if n1 > n2:\n",
        "    print ('O primeiro valor é maior')\n",
        "elif n2 > n1:\n",
        "    print ('O segundo valor é maior')\n",
        "else:\n",
        "    print ('Os dois são iguais')\n",
        "\n"
      ],
      "metadata": {
        "colab": {
          "base_uri": "https://localhost:8080/"
        },
        "id": "cFRbAyTIpJfJ",
        "outputId": "10e27a3d-beaf-43dd-f1ba-651762bccb58"
      },
      "execution_count": 5,
      "outputs": [
        {
          "output_type": "stream",
          "name": "stdout",
          "text": [
            "Primeiro numero:2\n",
            "Segundo numero:1\n",
            "O primeiro valor é maior\n"
          ]
        }
      ]
    },
    {
      "cell_type": "code",
      "metadata": {
        "colab": {
          "base_uri": "https://localhost:8080/"
        },
        "id": "2b3a20a9",
        "outputId": "a5ab8229-28ce-4909-d7b7-7558a4e95522"
      },
      "source": [
        "from datetime import date\n",
        "\n",
        "ano_nascimento = int(input('Digite o ano de nascimento: '))\n",
        "ano_atual = date.today().year\n",
        "idade = ano_atual - ano_nascimento\n",
        "\n",
        "print(f'Quem nasceu em {ano_nascimento} tem {idade} anos em {ano_atual}.')\n",
        "\n",
        "if idade < 18:\n",
        "    saldo = 18 - idade\n",
        "    print(f'Ainda faltam {saldo} anos para o alistamento.')\n",
        "    ano_alistamento = ano_atual + saldo\n",
        "    print(f'Seu alistamento será em {ano_alistamento}.')\n",
        "elif idade > 18:\n",
        "    saldo = idade - 18\n",
        "    print(f'Já passaram {saldo} anos do tempo do alistamento.')\n",
        "    ano_alistamento = ano_atual - saldo\n",
        "    print(f'Seu alistamento foi em {ano_alistamento}.')\n",
        "else:\n",
        "    print('Você tem que se alistar IMEDIATAMENTE!')"
      ],
      "execution_count": 10,
      "outputs": [
        {
          "output_type": "stream",
          "name": "stdout",
          "text": [
            "Digite o ano de nascimento: 2007\n",
            "Quem nasceu em 2007 tem 18 anos em 2025.\n",
            "Você tem que se alistar IMEDIATAMENTE!\n"
          ]
        }
      ]
    },
    {
      "cell_type": "code",
      "metadata": {
        "colab": {
          "base_uri": "https://localhost:8080/"
        },
        "id": "c9a3821f",
        "outputId": "21286ce3-e65c-4240-9feb-0714ba841ae8"
      },
      "source": [
        "nota1 = float(input('Digite a primeira nota: '))\n",
        "nota2 = float(input('Digite a segunda nota: '))\n",
        "\n",
        "media = (nota1 + nota2) / 2\n",
        "\n",
        "print(f'A média do aluno é {media:.1f}')\n",
        "\n",
        "if media < 5.0:\n",
        "    print('Situação: REPROVADO')\n",
        "elif 5.0 <= media <= 6.2:\n",
        "    print('Situação: RECUPERAÇÃO')\n",
        "else:\n",
        "    print('Situação: APROVADO')\n",
        ""
      ],
      "execution_count": 18,
      "outputs": [
        {
          "output_type": "stream",
          "name": "stdout",
          "text": [
            "Digite a primeira nota: 6\n",
            "Digite a segunda nota: 6\n",
            "A média do aluno é 6.0\n",
            "Situação: RECUPERAÇÃO\n"
          ]
        }
      ]
    },
    {
      "cell_type": "code",
      "metadata": {
        "colab": {
          "base_uri": "https://localhost:8080/"
        },
        "id": "3129959e",
        "outputId": "78eda71e-de56-434c-cab8-768267c97ddf"
      },
      "source": [
        "from datetime import date\n",
        "\n",
        "ano_nascimento = int(input('Digite o ano de nascimento do atleta: '))\n",
        "ano_atual = date.today().year\n",
        "idade = ano_atual - ano_nascimento\n",
        "\n",
        "print(f'O atleta tem {idade} anos.')\n",
        "\n",
        "if idade <= 9:\n",
        "    print('Categoria: MIRIM')\n",
        "elif idade <= 14:\n",
        "    print('Categoria: INFANTIL')\n",
        "elif idade <= 19:\n",
        "    print('Categoria: JÚNIOR')\n",
        "elif idade <= 25:\n",
        "    print('Categoria: SÊNIOR')\n",
        "else:\n",
        "    print('Categoria: MASTER')"
      ],
      "execution_count": 21,
      "outputs": [
        {
          "output_type": "stream",
          "name": "stdout",
          "text": [
            "Digite o ano de nascimento do atleta: 2011\n",
            "O atleta tem 14 anos.\n",
            "Categoria: INFANTIL\n"
          ]
        }
      ]
    },
    {
      "cell_type": "code",
      "metadata": {
        "colab": {
          "base_uri": "https://localhost:8080/"
        },
        "id": "7044d80a",
        "outputId": "aafe94f7-be80-4aff-ef0e-22136ee9ab14"
      },
      "source": [
        "def classify_triangle(a, b, c):\n",
        "    \"\"\"\n",
        "    Classifies a triangle based on the lengths of its sides.\n",
        "\n",
        "    Args:\n",
        "        a: Length of the first side.\n",
        "        b: Length of the second side.\n",
        "        c: Length of the third side.\n",
        "\n",
        "    Returns:\n",
        "        A string indicating the type of triangle ('EQUILÁTERO', 'ISÓSCELES',\n",
        "        'ESCALENO') or a message indicating it's not a triangle.\n",
        "    \"\"\"\n",
        "    if a < b + c and b < a + c and c < a + b:\n",
        "        if a == b == c:\n",
        "            return 'EQUILÁTERO.'\n",
        "        elif a != b and b != c and a != c:\n",
        "            return 'ESCALENO.'\n",
        "        else:\n",
        "            return 'ISÓSCELES.'\n",
        "    else:\n",
        "        return 'Os segmentos NÃO podem formar um triângulo.'\n",
        "\n",
        "# Example usage:\n",
        "side1 = float(input('Digite o comprimento do primeiro segmento: '))\n",
        "side2 = float(input('Digite o comprimento do segundo segmento: '))\n",
        "side3 = float(input('Digite o comprimento do terceiro segmento: '))\n",
        "\n",
        "result = classify_triangle(side1, side2, side3)\n",
        "print(f'Os segmentos formam um triângulo {result}')"
      ],
      "execution_count": 23,
      "outputs": [
        {
          "output_type": "stream",
          "name": "stdout",
          "text": [
            "Digite o comprimento do primeiro segmento: 5\n",
            "Digite o comprimento do segundo segmento: 5\n",
            "Digite o comprimento do terceiro segmento: 6\n",
            "Os segmentos formam um triângulo ISÓSCELES.\n"
          ]
        }
      ]
    },
    {
      "cell_type": "code",
      "metadata": {
        "colab": {
          "base_uri": "https://localhost:8080/"
        },
        "id": "a9a77fcc",
        "outputId": "cef022d1-3f17-48f3-8d4c-97665b248ebe"
      },
      "source": [
        "peso = float(input('Digite o peso (kg): '))\n",
        "altura = float(input('Digite a altura (m): '))\n",
        "\n",
        "imc = peso / (altura ** 2)\n",
        "\n",
        "print(f'O IMC é de {imc:.1f}')\n",
        "\n",
        "if imc < 18.5:\n",
        "    print('Status: Abaixo do Peso')\n",
        "elif 18.5 <= imc < 25:\n",
        "    print('Status: Peso Ideal')\n",
        "elif 25 <= imc < 30:\n",
        "    print('Status: Sobrepeso')\n",
        "elif 30 <= imc < 40:\n",
        "    print('Status: Obesidade')\n",
        "else:\n",
        "    print('Status: Obesidade Mórbida')"
      ],
      "execution_count": 28,
      "outputs": [
        {
          "output_type": "stream",
          "name": "stdout",
          "text": [
            "Digite o peso (kg): 65\n",
            "Digite a altura (m): 1.65\n",
            "O IMC é de 23.9\n",
            "Status: Peso Ideal\n"
          ]
        }
      ]
    }
  ]
}